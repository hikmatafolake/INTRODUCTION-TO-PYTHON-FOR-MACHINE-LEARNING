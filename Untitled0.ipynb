{
  "nbformat": 4,
  "nbformat_minor": 0,
  "metadata": {
    "colab": {
      "provenance": []
    },
    "kernelspec": {
      "name": "python3",
      "display_name": "Python 3"
    },
    "language_info": {
      "name": "python"
    }
  },
  "cells": [
    {
      "cell_type": "code",
      "execution_count": 2,
      "metadata": {
        "id": "2oMIrwWhb6dh"
      },
      "outputs": [],
      "source": [
        "# Import pandas\n",
        "import pandas as pd\n",
        "# read the csv file into the dataframe\n",
        "df = pd.read_csv('FoodBalanceSheets_E_Africa_NOFLAG.csv', encoding = 'latin-1')"
      ]
    },
    {
      "cell_type": "code",
      "source": [
        "# print a few lines of the dataframe\n",
        "df.head()"
      ],
      "metadata": {
        "colab": {
          "base_uri": "https://localhost:8080/",
          "height": 365
        },
        "id": "paQ8Ian3GFQj",
        "outputId": "6c1b6e8c-5b86-4c09-efa9-d2cd23a9e517"
      },
      "execution_count": 7,
      "outputs": [
        {
          "output_type": "execute_result",
          "data": {
            "text/plain": [
              "   Area Code     Area  Item Code         Item  Element Code  \\\n",
              "0          4  Algeria       2501   Population           511   \n",
              "1          4  Algeria       2501   Population          5301   \n",
              "2          4  Algeria       2901  Grand Total           664   \n",
              "3          4  Algeria       2901  Grand Total           674   \n",
              "4          4  Algeria       2901  Grand Total           684   \n",
              "\n",
              "                                  Element             Unit     Y2014  \\\n",
              "0           Total Population - Both sexes     1000 persons  38924.00   \n",
              "1                Domestic supply quantity      1000 tonnes      0.00   \n",
              "2           Food supply (kcal/capita/day)  kcal/capita/day   3377.00   \n",
              "3  Protein supply quantity (g/capita/day)     g/capita/day     94.90   \n",
              "4      Fat supply quantity (g/capita/day)     g/capita/day     80.06   \n",
              "\n",
              "      Y2015     Y2016     Y2017     Y2018  \n",
              "0  39728.00  40551.00  41389.00  42228.00  \n",
              "1      0.00      0.00      0.00      0.00  \n",
              "2   3379.00   3372.00   3341.00   3322.00  \n",
              "3     94.35     94.72     92.82     91.83  \n",
              "4     79.36     77.40     80.19     77.28  "
            ],
            "text/html": [
              "\n",
              "  <div id=\"df-431262f6-b09c-4bab-9960-b74e018fc15f\" class=\"colab-df-container\">\n",
              "    <div>\n",
              "<style scoped>\n",
              "    .dataframe tbody tr th:only-of-type {\n",
              "        vertical-align: middle;\n",
              "    }\n",
              "\n",
              "    .dataframe tbody tr th {\n",
              "        vertical-align: top;\n",
              "    }\n",
              "\n",
              "    .dataframe thead th {\n",
              "        text-align: right;\n",
              "    }\n",
              "</style>\n",
              "<table border=\"1\" class=\"dataframe\">\n",
              "  <thead>\n",
              "    <tr style=\"text-align: right;\">\n",
              "      <th></th>\n",
              "      <th>Area Code</th>\n",
              "      <th>Area</th>\n",
              "      <th>Item Code</th>\n",
              "      <th>Item</th>\n",
              "      <th>Element Code</th>\n",
              "      <th>Element</th>\n",
              "      <th>Unit</th>\n",
              "      <th>Y2014</th>\n",
              "      <th>Y2015</th>\n",
              "      <th>Y2016</th>\n",
              "      <th>Y2017</th>\n",
              "      <th>Y2018</th>\n",
              "    </tr>\n",
              "  </thead>\n",
              "  <tbody>\n",
              "    <tr>\n",
              "      <th>0</th>\n",
              "      <td>4</td>\n",
              "      <td>Algeria</td>\n",
              "      <td>2501</td>\n",
              "      <td>Population</td>\n",
              "      <td>511</td>\n",
              "      <td>Total Population - Both sexes</td>\n",
              "      <td>1000 persons</td>\n",
              "      <td>38924.00</td>\n",
              "      <td>39728.00</td>\n",
              "      <td>40551.00</td>\n",
              "      <td>41389.00</td>\n",
              "      <td>42228.00</td>\n",
              "    </tr>\n",
              "    <tr>\n",
              "      <th>1</th>\n",
              "      <td>4</td>\n",
              "      <td>Algeria</td>\n",
              "      <td>2501</td>\n",
              "      <td>Population</td>\n",
              "      <td>5301</td>\n",
              "      <td>Domestic supply quantity</td>\n",
              "      <td>1000 tonnes</td>\n",
              "      <td>0.00</td>\n",
              "      <td>0.00</td>\n",
              "      <td>0.00</td>\n",
              "      <td>0.00</td>\n",
              "      <td>0.00</td>\n",
              "    </tr>\n",
              "    <tr>\n",
              "      <th>2</th>\n",
              "      <td>4</td>\n",
              "      <td>Algeria</td>\n",
              "      <td>2901</td>\n",
              "      <td>Grand Total</td>\n",
              "      <td>664</td>\n",
              "      <td>Food supply (kcal/capita/day)</td>\n",
              "      <td>kcal/capita/day</td>\n",
              "      <td>3377.00</td>\n",
              "      <td>3379.00</td>\n",
              "      <td>3372.00</td>\n",
              "      <td>3341.00</td>\n",
              "      <td>3322.00</td>\n",
              "    </tr>\n",
              "    <tr>\n",
              "      <th>3</th>\n",
              "      <td>4</td>\n",
              "      <td>Algeria</td>\n",
              "      <td>2901</td>\n",
              "      <td>Grand Total</td>\n",
              "      <td>674</td>\n",
              "      <td>Protein supply quantity (g/capita/day)</td>\n",
              "      <td>g/capita/day</td>\n",
              "      <td>94.90</td>\n",
              "      <td>94.35</td>\n",
              "      <td>94.72</td>\n",
              "      <td>92.82</td>\n",
              "      <td>91.83</td>\n",
              "    </tr>\n",
              "    <tr>\n",
              "      <th>4</th>\n",
              "      <td>4</td>\n",
              "      <td>Algeria</td>\n",
              "      <td>2901</td>\n",
              "      <td>Grand Total</td>\n",
              "      <td>684</td>\n",
              "      <td>Fat supply quantity (g/capita/day)</td>\n",
              "      <td>g/capita/day</td>\n",
              "      <td>80.06</td>\n",
              "      <td>79.36</td>\n",
              "      <td>77.40</td>\n",
              "      <td>80.19</td>\n",
              "      <td>77.28</td>\n",
              "    </tr>\n",
              "  </tbody>\n",
              "</table>\n",
              "</div>\n",
              "    <div class=\"colab-df-buttons\">\n",
              "\n",
              "  <div class=\"colab-df-container\">\n",
              "    <button class=\"colab-df-convert\" onclick=\"convertToInteractive('df-431262f6-b09c-4bab-9960-b74e018fc15f')\"\n",
              "            title=\"Convert this dataframe to an interactive table.\"\n",
              "            style=\"display:none;\">\n",
              "\n",
              "  <svg xmlns=\"http://www.w3.org/2000/svg\" height=\"24px\" viewBox=\"0 -960 960 960\">\n",
              "    <path d=\"M120-120v-720h720v720H120Zm60-500h600v-160H180v160Zm220 220h160v-160H400v160Zm0 220h160v-160H400v160ZM180-400h160v-160H180v160Zm440 0h160v-160H620v160ZM180-180h160v-160H180v160Zm440 0h160v-160H620v160Z\"/>\n",
              "  </svg>\n",
              "    </button>\n",
              "\n",
              "  <style>\n",
              "    .colab-df-container {\n",
              "      display:flex;\n",
              "      gap: 12px;\n",
              "    }\n",
              "\n",
              "    .colab-df-convert {\n",
              "      background-color: #E8F0FE;\n",
              "      border: none;\n",
              "      border-radius: 50%;\n",
              "      cursor: pointer;\n",
              "      display: none;\n",
              "      fill: #1967D2;\n",
              "      height: 32px;\n",
              "      padding: 0 0 0 0;\n",
              "      width: 32px;\n",
              "    }\n",
              "\n",
              "    .colab-df-convert:hover {\n",
              "      background-color: #E2EBFA;\n",
              "      box-shadow: 0px 1px 2px rgba(60, 64, 67, 0.3), 0px 1px 3px 1px rgba(60, 64, 67, 0.15);\n",
              "      fill: #174EA6;\n",
              "    }\n",
              "\n",
              "    .colab-df-buttons div {\n",
              "      margin-bottom: 4px;\n",
              "    }\n",
              "\n",
              "    [theme=dark] .colab-df-convert {\n",
              "      background-color: #3B4455;\n",
              "      fill: #D2E3FC;\n",
              "    }\n",
              "\n",
              "    [theme=dark] .colab-df-convert:hover {\n",
              "      background-color: #434B5C;\n",
              "      box-shadow: 0px 1px 3px 1px rgba(0, 0, 0, 0.15);\n",
              "      filter: drop-shadow(0px 1px 2px rgba(0, 0, 0, 0.3));\n",
              "      fill: #FFFFFF;\n",
              "    }\n",
              "  </style>\n",
              "\n",
              "    <script>\n",
              "      const buttonEl =\n",
              "        document.querySelector('#df-431262f6-b09c-4bab-9960-b74e018fc15f button.colab-df-convert');\n",
              "      buttonEl.style.display =\n",
              "        google.colab.kernel.accessAllowed ? 'block' : 'none';\n",
              "\n",
              "      async function convertToInteractive(key) {\n",
              "        const element = document.querySelector('#df-431262f6-b09c-4bab-9960-b74e018fc15f');\n",
              "        const dataTable =\n",
              "          await google.colab.kernel.invokeFunction('convertToInteractive',\n",
              "                                                    [key], {});\n",
              "        if (!dataTable) return;\n",
              "\n",
              "        const docLinkHtml = 'Like what you see? Visit the ' +\n",
              "          '<a target=\"_blank\" href=https://colab.research.google.com/notebooks/data_table.ipynb>data table notebook</a>'\n",
              "          + ' to learn more about interactive tables.';\n",
              "        element.innerHTML = '';\n",
              "        dataTable['output_type'] = 'display_data';\n",
              "        await google.colab.output.renderOutput(dataTable, element);\n",
              "        const docLink = document.createElement('div');\n",
              "        docLink.innerHTML = docLinkHtml;\n",
              "        element.appendChild(docLink);\n",
              "      }\n",
              "    </script>\n",
              "  </div>\n",
              "\n",
              "\n",
              "<div id=\"df-33761ad5-b17a-4b76-a028-45cae14d8341\">\n",
              "  <button class=\"colab-df-quickchart\" onclick=\"quickchart('df-33761ad5-b17a-4b76-a028-45cae14d8341')\"\n",
              "            title=\"Suggest charts.\"\n",
              "            style=\"display:none;\">\n",
              "\n",
              "<svg xmlns=\"http://www.w3.org/2000/svg\" height=\"24px\"viewBox=\"0 0 24 24\"\n",
              "     width=\"24px\">\n",
              "    <g>\n",
              "        <path d=\"M19 3H5c-1.1 0-2 .9-2 2v14c0 1.1.9 2 2 2h14c1.1 0 2-.9 2-2V5c0-1.1-.9-2-2-2zM9 17H7v-7h2v7zm4 0h-2V7h2v10zm4 0h-2v-4h2v4z\"/>\n",
              "    </g>\n",
              "</svg>\n",
              "  </button>\n",
              "\n",
              "<style>\n",
              "  .colab-df-quickchart {\n",
              "      --bg-color: #E8F0FE;\n",
              "      --fill-color: #1967D2;\n",
              "      --hover-bg-color: #E2EBFA;\n",
              "      --hover-fill-color: #174EA6;\n",
              "      --disabled-fill-color: #AAA;\n",
              "      --disabled-bg-color: #DDD;\n",
              "  }\n",
              "\n",
              "  [theme=dark] .colab-df-quickchart {\n",
              "      --bg-color: #3B4455;\n",
              "      --fill-color: #D2E3FC;\n",
              "      --hover-bg-color: #434B5C;\n",
              "      --hover-fill-color: #FFFFFF;\n",
              "      --disabled-bg-color: #3B4455;\n",
              "      --disabled-fill-color: #666;\n",
              "  }\n",
              "\n",
              "  .colab-df-quickchart {\n",
              "    background-color: var(--bg-color);\n",
              "    border: none;\n",
              "    border-radius: 50%;\n",
              "    cursor: pointer;\n",
              "    display: none;\n",
              "    fill: var(--fill-color);\n",
              "    height: 32px;\n",
              "    padding: 0;\n",
              "    width: 32px;\n",
              "  }\n",
              "\n",
              "  .colab-df-quickchart:hover {\n",
              "    background-color: var(--hover-bg-color);\n",
              "    box-shadow: 0 1px 2px rgba(60, 64, 67, 0.3), 0 1px 3px 1px rgba(60, 64, 67, 0.15);\n",
              "    fill: var(--button-hover-fill-color);\n",
              "  }\n",
              "\n",
              "  .colab-df-quickchart-complete:disabled,\n",
              "  .colab-df-quickchart-complete:disabled:hover {\n",
              "    background-color: var(--disabled-bg-color);\n",
              "    fill: var(--disabled-fill-color);\n",
              "    box-shadow: none;\n",
              "  }\n",
              "\n",
              "  .colab-df-spinner {\n",
              "    border: 2px solid var(--fill-color);\n",
              "    border-color: transparent;\n",
              "    border-bottom-color: var(--fill-color);\n",
              "    animation:\n",
              "      spin 1s steps(1) infinite;\n",
              "  }\n",
              "\n",
              "  @keyframes spin {\n",
              "    0% {\n",
              "      border-color: transparent;\n",
              "      border-bottom-color: var(--fill-color);\n",
              "      border-left-color: var(--fill-color);\n",
              "    }\n",
              "    20% {\n",
              "      border-color: transparent;\n",
              "      border-left-color: var(--fill-color);\n",
              "      border-top-color: var(--fill-color);\n",
              "    }\n",
              "    30% {\n",
              "      border-color: transparent;\n",
              "      border-left-color: var(--fill-color);\n",
              "      border-top-color: var(--fill-color);\n",
              "      border-right-color: var(--fill-color);\n",
              "    }\n",
              "    40% {\n",
              "      border-color: transparent;\n",
              "      border-right-color: var(--fill-color);\n",
              "      border-top-color: var(--fill-color);\n",
              "    }\n",
              "    60% {\n",
              "      border-color: transparent;\n",
              "      border-right-color: var(--fill-color);\n",
              "    }\n",
              "    80% {\n",
              "      border-color: transparent;\n",
              "      border-right-color: var(--fill-color);\n",
              "      border-bottom-color: var(--fill-color);\n",
              "    }\n",
              "    90% {\n",
              "      border-color: transparent;\n",
              "      border-bottom-color: var(--fill-color);\n",
              "    }\n",
              "  }\n",
              "</style>\n",
              "\n",
              "  <script>\n",
              "    async function quickchart(key) {\n",
              "      const quickchartButtonEl =\n",
              "        document.querySelector('#' + key + ' button');\n",
              "      quickchartButtonEl.disabled = true;  // To prevent multiple clicks.\n",
              "      quickchartButtonEl.classList.add('colab-df-spinner');\n",
              "      try {\n",
              "        const charts = await google.colab.kernel.invokeFunction(\n",
              "            'suggestCharts', [key], {});\n",
              "      } catch (error) {\n",
              "        console.error('Error during call to suggestCharts:', error);\n",
              "      }\n",
              "      quickchartButtonEl.classList.remove('colab-df-spinner');\n",
              "      quickchartButtonEl.classList.add('colab-df-quickchart-complete');\n",
              "    }\n",
              "    (() => {\n",
              "      let quickchartButtonEl =\n",
              "        document.querySelector('#df-33761ad5-b17a-4b76-a028-45cae14d8341 button');\n",
              "      quickchartButtonEl.style.display =\n",
              "        google.colab.kernel.accessAllowed ? 'block' : 'none';\n",
              "    })();\n",
              "  </script>\n",
              "</div>\n",
              "    </div>\n",
              "  </div>\n"
            ]
          },
          "metadata": {},
          "execution_count": 7
        }
      ]
    },
    {
      "cell_type": "code",
      "source": [
        "# check information about the dataset\n",
        "df.info()"
      ],
      "metadata": {
        "colab": {
          "base_uri": "https://localhost:8080/"
        },
        "id": "PifBgtJWF-pu",
        "outputId": "baec72a9-dd5a-493f-e1d2-e66c40a7aacf"
      },
      "execution_count": 6,
      "outputs": [
        {
          "output_type": "stream",
          "name": "stdout",
          "text": [
            "<class 'pandas.core.frame.DataFrame'>\n",
            "RangeIndex: 60943 entries, 0 to 60942\n",
            "Data columns (total 12 columns):\n",
            " #   Column        Non-Null Count  Dtype  \n",
            "---  ------        --------------  -----  \n",
            " 0   Area Code     60943 non-null  int64  \n",
            " 1   Area          60943 non-null  object \n",
            " 2   Item Code     60943 non-null  int64  \n",
            " 3   Item          60943 non-null  object \n",
            " 4   Element Code  60943 non-null  int64  \n",
            " 5   Element       60943 non-null  object \n",
            " 6   Unit          60943 non-null  object \n",
            " 7   Y2014         59354 non-null  float64\n",
            " 8   Y2015         59395 non-null  float64\n",
            " 9   Y2016         59408 non-null  float64\n",
            " 10  Y2017         59437 non-null  float64\n",
            " 11  Y2018         59507 non-null  float64\n",
            "dtypes: float64(5), int64(3), object(4)\n",
            "memory usage: 5.6+ MB\n"
          ]
        }
      ]
    },
    {
      "cell_type": "code",
      "source": [
        "# Select columns 'Y2017' and 'Area'\n",
        "selected_columns = df[['Y2017', 'Area']]\n",
        "\n",
        "# Group by 'Area' and calculate the sum for each group in 2017\n",
        "sum_by_area = selected_columns.groupby('Area')['Y2017'].sum()\n",
        "\n",
        "# Find the Area with the highest sum in 2017\n",
        "area_with_highest_sum = sum_by_area.idxmax()\n",
        "\n",
        "print( area_with_highest_sum)\n"
      ],
      "metadata": {
        "colab": {
          "base_uri": "https://localhost:8080/"
        },
        "id": "ZXTwnpJ5DHyl",
        "outputId": "16510cf8-9738-4635-c1ba-ede4f29ae2f3"
      },
      "execution_count": 4,
      "outputs": [
        {
          "output_type": "stream",
          "name": "stdout",
          "text": [
            "Nigeria\n"
          ]
        }
      ]
    },
    {
      "cell_type": "code",
      "source": [
        "# What is the total Protein supply quantity in Madagascar in 2015?\n",
        "# Filter the dataset for Madagascar and 'Element' values\n",
        "madagascar_protein_2015 = df[(df['Area'] == 'Madagascar') & (df['Element'] == 'Protein supply quantity (g/capita/day)')]\n",
        "\n",
        "# Extract the value for the year 2015 (column 'Y2015')\n",
        "protein_supply_2015 = madagascar_protein_2015['Y2015']\n",
        "\n",
        "# Calculate the total protein supply quantity in Madagascar in 2015\n",
        "total_protein_supply_2015 = protein_supply_2015.sum()\n",
        "\n",
        "# Print the result\n",
        "print( total_protein_supply_2015)\n",
        "\n"
      ],
      "metadata": {
        "colab": {
          "base_uri": "https://localhost:8080/"
        },
        "id": "w7CB2ou8E2d5",
        "outputId": "654b7cfc-9939-43ce-c827-29b46136918a"
      },
      "execution_count": 11,
      "outputs": [
        {
          "output_type": "stream",
          "name": "stdout",
          "text": [
            "173.04999999999998\n"
          ]
        }
      ]
    },
    {
      "cell_type": "code",
      "source": [
        "What is the total sum of Wine produced in 2015 and 2018 respectively?\n",
        "# Filter the dataset for 'Wine' in the 'Item' column\n",
        "wine_production = df[df['Item'] == 'Wine']\n",
        "\n",
        "# Extract the values for the years 2015 and 2018 (columns 'Y2015' and 'Y2018')\n",
        "wine_production_2015 = wine_production['Y2015']\n",
        "wine_production_2018 = wine_production['Y2018']\n",
        "\n",
        "# Calculate the total sum of Wine produced in 2015 and 2018\n",
        "total_wine_production_2015 = wine_production_2015.sum()\n",
        "total_wine_production_2018 = wine_production_2018.sum()\n",
        "\n",
        "# Print the results\n",
        "print( total_wine_production_2015)\n",
        "print( total_wine_production_2018)\n"
      ],
      "metadata": {
        "colab": {
          "base_uri": "https://localhost:8080/"
        },
        "id": "EeJ08a3nH2eM",
        "outputId": "3b589ed3-356c-45a7-ddb4-4e1c1010d7a6"
      },
      "execution_count": 12,
      "outputs": [
        {
          "output_type": "stream",
          "name": "stdout",
          "text": [
            "Object `respectively` not found.\n",
            "4251.8099999999995\n",
            "4039.3199999999997\n"
          ]
        }
      ]
    },
    {
      "cell_type": "code",
      "source": [
        "grouped = df.groupby('Element')['Stock_Variation'].sum()\n",
        "\n",
        "# Find the year with the highest sum of Stock Variation\n",
        "year_with_highest_variation = grouped.idxmax()\n",
        "\n",
        "# Print the result\n",
        "print( year_with_highest_variation)"
      ],
      "metadata": {
        "colab": {
          "base_uri": "https://localhost:8080/",
          "height": 390
        },
        "id": "ruUOEPngIfEF",
        "outputId": "2cad9e4f-299d-497e-9bf3-772a0cfd6913"
      },
      "execution_count": 13,
      "outputs": [
        {
          "output_type": "error",
          "ename": "KeyError",
          "evalue": "ignored",
          "traceback": [
            "\u001b[0;31m---------------------------------------------------------------------------\u001b[0m",
            "\u001b[0;31mKeyError\u001b[0m                                  Traceback (most recent call last)",
            "\u001b[0;32m<ipython-input-13-9d69b721ad3c>\u001b[0m in \u001b[0;36m<cell line: 1>\u001b[0;34m()\u001b[0m\n\u001b[0;32m----> 1\u001b[0;31m \u001b[0mgrouped\u001b[0m \u001b[0;34m=\u001b[0m \u001b[0mdf\u001b[0m\u001b[0;34m.\u001b[0m\u001b[0mgroupby\u001b[0m\u001b[0;34m(\u001b[0m\u001b[0;34m'Element'\u001b[0m\u001b[0;34m)\u001b[0m\u001b[0;34m[\u001b[0m\u001b[0;34m'Stock_Variation'\u001b[0m\u001b[0;34m]\u001b[0m\u001b[0;34m.\u001b[0m\u001b[0msum\u001b[0m\u001b[0;34m(\u001b[0m\u001b[0;34m)\u001b[0m\u001b[0;34m\u001b[0m\u001b[0;34m\u001b[0m\u001b[0m\n\u001b[0m\u001b[1;32m      2\u001b[0m \u001b[0;34m\u001b[0m\u001b[0m\n\u001b[1;32m      3\u001b[0m \u001b[0;31m# Find the year with the highest sum of Stock Variation\u001b[0m\u001b[0;34m\u001b[0m\u001b[0;34m\u001b[0m\u001b[0m\n\u001b[1;32m      4\u001b[0m \u001b[0myear_with_highest_variation\u001b[0m \u001b[0;34m=\u001b[0m \u001b[0mgrouped\u001b[0m\u001b[0;34m.\u001b[0m\u001b[0midxmax\u001b[0m\u001b[0;34m(\u001b[0m\u001b[0;34m)\u001b[0m\u001b[0;34m\u001b[0m\u001b[0;34m\u001b[0m\u001b[0m\n\u001b[1;32m      5\u001b[0m \u001b[0;34m\u001b[0m\u001b[0m\n",
            "\u001b[0;32m/usr/local/lib/python3.10/dist-packages/pandas/core/groupby/generic.py\u001b[0m in \u001b[0;36m__getitem__\u001b[0;34m(self, key)\u001b[0m\n\u001b[1;32m   1414\u001b[0m                 \u001b[0mstacklevel\u001b[0m\u001b[0;34m=\u001b[0m\u001b[0mfind_stack_level\u001b[0m\u001b[0;34m(\u001b[0m\u001b[0;34m)\u001b[0m\u001b[0;34m,\u001b[0m\u001b[0;34m\u001b[0m\u001b[0;34m\u001b[0m\u001b[0m\n\u001b[1;32m   1415\u001b[0m             )\n\u001b[0;32m-> 1416\u001b[0;31m         \u001b[0;32mreturn\u001b[0m \u001b[0msuper\u001b[0m\u001b[0;34m(\u001b[0m\u001b[0;34m)\u001b[0m\u001b[0;34m.\u001b[0m\u001b[0m__getitem__\u001b[0m\u001b[0;34m(\u001b[0m\u001b[0mkey\u001b[0m\u001b[0;34m)\u001b[0m\u001b[0;34m\u001b[0m\u001b[0;34m\u001b[0m\u001b[0m\n\u001b[0m\u001b[1;32m   1417\u001b[0m \u001b[0;34m\u001b[0m\u001b[0m\n\u001b[1;32m   1418\u001b[0m     \u001b[0;32mdef\u001b[0m \u001b[0m_gotitem\u001b[0m\u001b[0;34m(\u001b[0m\u001b[0mself\u001b[0m\u001b[0;34m,\u001b[0m \u001b[0mkey\u001b[0m\u001b[0;34m,\u001b[0m \u001b[0mndim\u001b[0m\u001b[0;34m:\u001b[0m \u001b[0mint\u001b[0m\u001b[0;34m,\u001b[0m \u001b[0msubset\u001b[0m\u001b[0;34m=\u001b[0m\u001b[0;32mNone\u001b[0m\u001b[0;34m)\u001b[0m\u001b[0;34m:\u001b[0m\u001b[0;34m\u001b[0m\u001b[0;34m\u001b[0m\u001b[0m\n",
            "\u001b[0;32m/usr/local/lib/python3.10/dist-packages/pandas/core/base.py\u001b[0m in \u001b[0;36m__getitem__\u001b[0;34m(self, key)\u001b[0m\n\u001b[1;32m    246\u001b[0m         \u001b[0;32melse\u001b[0m\u001b[0;34m:\u001b[0m\u001b[0;34m\u001b[0m\u001b[0;34m\u001b[0m\u001b[0m\n\u001b[1;32m    247\u001b[0m             \u001b[0;32mif\u001b[0m \u001b[0mkey\u001b[0m \u001b[0;32mnot\u001b[0m \u001b[0;32min\u001b[0m \u001b[0mself\u001b[0m\u001b[0;34m.\u001b[0m\u001b[0mobj\u001b[0m\u001b[0;34m:\u001b[0m\u001b[0;34m\u001b[0m\u001b[0;34m\u001b[0m\u001b[0m\n\u001b[0;32m--> 248\u001b[0;31m                 \u001b[0;32mraise\u001b[0m \u001b[0mKeyError\u001b[0m\u001b[0;34m(\u001b[0m\u001b[0;34mf\"Column not found: {key}\"\u001b[0m\u001b[0;34m)\u001b[0m\u001b[0;34m\u001b[0m\u001b[0;34m\u001b[0m\u001b[0m\n\u001b[0m\u001b[1;32m    249\u001b[0m             \u001b[0msubset\u001b[0m \u001b[0;34m=\u001b[0m \u001b[0mself\u001b[0m\u001b[0;34m.\u001b[0m\u001b[0mobj\u001b[0m\u001b[0;34m[\u001b[0m\u001b[0mkey\u001b[0m\u001b[0;34m]\u001b[0m\u001b[0;34m\u001b[0m\u001b[0;34m\u001b[0m\u001b[0m\n\u001b[1;32m    250\u001b[0m             \u001b[0mndim\u001b[0m \u001b[0;34m=\u001b[0m \u001b[0msubset\u001b[0m\u001b[0;34m.\u001b[0m\u001b[0mndim\u001b[0m\u001b[0;34m\u001b[0m\u001b[0;34m\u001b[0m\u001b[0m\n",
            "\u001b[0;31mKeyError\u001b[0m: 'Column not found: Stock_Variation'"
          ]
        }
      ]
    },
    {
      "cell_type": "code",
      "source": [
        "processing_2017 = df[df['Element'] == 'Processing']['Y2017']\n",
        "\n",
        "# Calculate the total sum of 'Processing' in 2017\n",
        "total_processing_2017 = processing_2017.sum()\n",
        "\n",
        "# Print the total processing\n",
        "print( total_processing_2017)\n"
      ],
      "metadata": {
        "colab": {
          "base_uri": "https://localhost:8080/"
        },
        "id": "k7hVk9-OIfLq",
        "outputId": "f2cdade1-9c42-4b83-c379-38320c652972"
      },
      "execution_count": 15,
      "outputs": [
        {
          "output_type": "stream",
          "name": "stdout",
          "text": [
            "292836.0\n"
          ]
        }
      ]
    },
    {
      "cell_type": "code",
      "source": [
        "#What is the total number of unique countries in the dataset\n",
        "total_unique_countries = df['Area'].nunique()\n",
        "print( total_unique_countries)"
      ],
      "metadata": {
        "colab": {
          "base_uri": "https://localhost:8080/"
        },
        "id": "hXIiy7l_JkuS",
        "outputId": "48a80f74-d8ad-4475-a2ac-1af05af3a153"
      },
      "execution_count": 17,
      "outputs": [
        {
          "output_type": "stream",
          "name": "stdout",
          "text": [
            "49\n"
          ]
        }
      ]
    },
    {
      "cell_type": "code",
      "source": [
        "# Select the columns for the year 2014\n",
        "columns_2014 = ['Y2014']\n",
        "\n",
        "# Filter the DataFrame for the year 2014\n",
        "data_2014 = df[columns_2014]\n",
        "\n",
        "# Count the number of missing data (NaN values) in the year 2014\n",
        "total_missing_data_2014 = data_2014.isna().sum().sum()\n",
        "\n",
        "# Calculate the total number of data points in the year 2014\n",
        "total_data_points_2014 = data_2014.size\n",
        "\n",
        "# Calculate the percentage of missing data in the year 2014\n",
        "percentage_missing_data_2014 = (total_missing_data_2014 / total_data_points_2014) * 100\n",
        "\n",
        "# Print the results with 3 decimal places\n",
        "print(total_missing_data_2014)\n",
        "print(\"Percentage of missing data in 2014 (to 3 decimal places): {:.3f}%\".format(percentage_missing_data_2014))\n"
      ],
      "metadata": {
        "colab": {
          "base_uri": "https://localhost:8080/"
        },
        "id": "j8o0WDwgJk3p",
        "outputId": "1ae89ec3-9d70-4b06-cfa4-5ebf6a7e0f26"
      },
      "execution_count": 20,
      "outputs": [
        {
          "output_type": "stream",
          "name": "stdout",
          "text": [
            "1589\n",
            "Percentage of missing data in 2014 (to 3 decimal places): 2.607%\n"
          ]
        }
      ]
    },
    {
      "cell_type": "code",
      "source": [
        "# Select the columns for the year 2017\n",
        "columns_2017 = ['Y2017']\n",
        "\n",
        "# Filter the DataFrame for the year 2017\n",
        "data_2017 = df[columns_2017]\n",
        "\n",
        "# Calculate the mean and standard deviation for the year 2017\n",
        "mean_2017 = data_2017.mean().mean()\n",
        "std_deviation_2017 = data_2017.std().mean()\n",
        "\n",
        "# Print the results rounded to 2 decimal places\n",
        "print(\"Mean for the year 2017 (to 2 decimal places): {:.2f}\".format(mean_2017))\n",
        "print(\"Standard Deviation for the year 2017 (to 2 decimal places): {:.2f}\".format(std_deviation_2017))\n"
      ],
      "metadata": {
        "colab": {
          "base_uri": "https://localhost:8080/"
        },
        "id": "cZ8NO_zwIfSd",
        "outputId": "1969babf-075d-4685-da5f-00aa68682bcb"
      },
      "execution_count": 21,
      "outputs": [
        {
          "output_type": "stream",
          "name": "stdout",
          "text": [
            "Mean for the year 2017 (to 2 decimal places): 140.92\n",
            "Standard Deviation for the year 2017 (to 2 decimal places): 1671.86\n"
          ]
        }
      ]
    },
    {
      "cell_type": "code",
      "source": [
        "# Select the columns 'Y2017' and 'Area'\n",
        "data_2017_area = df[['Y2017', 'Area']]\n",
        "\n",
        "# Group by 'Area' and calculate the sum of 'Y2017' for each group\n",
        "grouped = data_2017_area.groupby('Area')['Y2017'].sum()\n",
        "\n",
        "# Sort the groups by sum in ascending order\n",
        "sorted_groups = grouped.sort_values(ascending=True)\n",
        "\n",
        "# Find the Area with the 7th lowest sum in 2017\n",
        "seventh_lowest_sum_area = sorted_groups.index[6]\n",
        "print(\"Area with the 7th lowest sum in 2017:\", seventh_lowest_sum_area)\n"
      ],
      "metadata": {
        "colab": {
          "base_uri": "https://localhost:8080/"
        },
        "id": "CawAE-y1LCFI",
        "outputId": "079b47af-8759-4652-bf0f-f676b0151892"
      },
      "execution_count": 22,
      "outputs": [
        {
          "output_type": "stream",
          "name": "stdout",
          "text": [
            "Area with the 7th lowest sum in 2017: Guinea-Bissau\n"
          ]
        }
      ]
    },
    {
      "cell_type": "code",
      "source": [
        "# Which year had the least correlation with ‘Element Code’\n",
        "# List of years to consider\n",
        "years = ['Y2014', 'Y2015', 'Y2016', 'Y2017', 'Y2018']\n",
        "\n",
        "# Initialize variables to track the least correlation and corresponding year\n",
        "least_correlation = None\n",
        "least_correlation_year = None\n",
        "\n",
        "# Loop through each year and calculate the correlation with 'Element Code'\n",
        "for year in years:\n",
        "    correlation = df['Element Code'].corr(df[year])\n",
        "\n",
        "    if least_correlation is None or abs(correlation) < abs(least_correlation):\n",
        "        least_correlation = correlation\n",
        "        least_correlation_year = year\n",
        "print( least_correlation_year)\n"
      ],
      "metadata": {
        "colab": {
          "base_uri": "https://localhost:8080/"
        },
        "id": "IqDGdgQcLh0r",
        "outputId": "76418030-8dea-4f6e-b5b7-9c44e251df5e"
      },
      "execution_count": 24,
      "outputs": [
        {
          "output_type": "stream",
          "name": "stdout",
          "text": [
            "Y2016\n"
          ]
        }
      ]
    }
  ]
}